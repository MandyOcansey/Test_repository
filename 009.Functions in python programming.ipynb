{
 "cells": [
  {
   "cell_type": "markdown",
   "metadata": {},
   "source": [
    "# What you will learn in this lesson\n",
    "\n",
    "1. Defining functions\n",
    "\n",
    "2. Variable scope\n",
    "\n",
    "3. Documentation\n",
    "\n",
    "4. Lamda expressions\n",
    "\n",
    "5. high level functions\n",
    "\n",
    "6. List comprehentions"
   ]
  },
  {
   "cell_type": "code",
   "execution_count": 1,
   "metadata": {},
   "outputs": [],
   "source": [
    "x = 'Frank'"
   ]
  },
  {
   "cell_type": "code",
   "execution_count": 2,
   "metadata": {},
   "outputs": [
    {
     "name": "stdout",
     "output_type": "stream",
     "text": [
      "5\n"
     ]
    }
   ],
   "source": [
    "print(len(x))"
   ]
  },
  {
   "cell_type": "code",
   "execution_count": 3,
   "metadata": {},
   "outputs": [],
   "source": [
    "def count_function(name):\n",
    "    count = 0\n",
    "    for i in range(len(name)):\n",
    "        count+=1\n",
    "    return count    \n",
    "    "
   ]
  },
  {
   "cell_type": "code",
   "execution_count": null,
   "metadata": {},
   "outputs": [],
   "source": [
    "def count_function(name):\n",
    "    count = 0\n",
    "    for i in name:\n",
    "        count+=1\n",
    "    return count  "
   ]
  },
  {
   "cell_type": "code",
   "execution_count": null,
   "metadata": {},
   "outputs": [],
   "source": [
    "count_function(x)"
   ]
  },
  {
   "cell_type": "code",
   "execution_count": null,
   "metadata": {},
   "outputs": [],
   "source": [
    "count = 0\n",
    "for i in range(len(x)):\n",
    "    count+=1\n",
    "print(count)   "
   ]
  },
  {
   "cell_type": "code",
   "execution_count": null,
   "metadata": {},
   "outputs": [],
   "source": []
  },
  {
   "cell_type": "code",
   "execution_count": null,
   "metadata": {},
   "outputs": [],
   "source": [
    "len()"
   ]
  },
  {
   "cell_type": "code",
   "execution_count": null,
   "metadata": {},
   "outputs": [],
   "source": [
    "count"
   ]
  },
  {
   "cell_type": "markdown",
   "metadata": {},
   "source": [
    "# Funtions\n",
    "\n",
    "A function is a block of codes that performs an action."
   ]
  },
  {
   "cell_type": "markdown",
   "metadata": {},
   "source": [
    "### Parts(components) of a function in python\n",
    "* Function Header\n",
    "\n",
    "The function header always starts with the def keyword, which indicates that this is a function definition.\n",
    "\n",
    "Then comes the function name (cylinder_volume)\n",
    "\n",
    "Immediately after the name are parentheses that may include arguments separated by commas which in our case are height and radius\n",
    "\n",
    "Arguments, or parameters, are values that are passed in as inputs when the function is called, and are used in the function body. \n",
    "\n",
    "NB: If a function doesn't take arguments, these parentheses are left empty.\n",
    "\n",
    "The header always end with a colon :.\n",
    "\n",
    "\n",
    "* Funtion Body\n",
    "\n",
    "The body of a function is the rest of the code after the header line.\n",
    "\n",
    "Within this body, we can refer to the argument variables and define new variables, which can only be used within these indented lines.\n",
    "\n",
    "The body will often include a return statement, which is used to send back an output value from the function to the statement that called the function.\n",
    "\n",
    "NB: The body of a function may not contain a return stamentment but a print statement.\n",
    "\n",
    "A return statement consists of the return keyword followed by an expression that is evaluated to get the output value for the function. \n",
    "\n",
    "If there is no return statement, the function simply returns None.\n",
    "\n",
    "\n"
   ]
  },
  {
   "cell_type": "code",
   "execution_count": 5,
   "metadata": {},
   "outputs": [],
   "source": [
    "x =[12,45,2,3,4,5,6]"
   ]
  },
  {
   "cell_type": "code",
   "execution_count": 6,
   "metadata": {},
   "outputs": [
    {
     "data": {
      "text/plain": [
       "2"
      ]
     },
     "execution_count": 6,
     "metadata": {},
     "output_type": "execute_result"
    }
   ],
   "source": [
    "min(x)"
   ]
  },
  {
   "cell_type": "code",
   "execution_count": 7,
   "metadata": {},
   "outputs": [
    {
     "data": {
      "text/plain": [
       "45"
      ]
     },
     "execution_count": 7,
     "metadata": {},
     "output_type": "execute_result"
    }
   ],
   "source": [
    "max(x)"
   ]
  },
  {
   "cell_type": "code",
   "execution_count": 8,
   "metadata": {},
   "outputs": [],
   "source": [
    "# Empty function\n",
    "def empty_function(): \n",
    "      \n",
    "        \n",
    "    pass"
   ]
  },
  {
   "cell_type": "code",
   "execution_count": 9,
   "metadata": {},
   "outputs": [],
   "source": [
    "empty_function()"
   ]
  },
  {
   "cell_type": "code",
   "execution_count": 10,
   "metadata": {},
   "outputs": [],
   "source": [
    "# Example 1\n",
    "def cylinder_volume(height,radius):#<----- function header\n",
    "   \n",
    "    pi = 3.14186\n",
    "    return height*pi*radius**2     #<------ function body"
   ]
  },
  {
   "cell_type": "code",
   "execution_count": 11,
   "metadata": {},
   "outputs": [
    {
     "ename": "NameError",
     "evalue": "name 'pi' is not defined",
     "output_type": "error",
     "traceback": [
      "\u001b[1;31m---------------------------------------------------------------------------\u001b[0m",
      "\u001b[1;31mNameError\u001b[0m                                 Traceback (most recent call last)",
      "\u001b[1;32m<ipython-input-11-f84ab820532c>\u001b[0m in \u001b[0;36m<module>\u001b[1;34m\u001b[0m\n\u001b[1;32m----> 1\u001b[1;33m \u001b[0mpi\u001b[0m\u001b[1;33m\u001b[0m\u001b[1;33m\u001b[0m\u001b[0m\n\u001b[0m",
      "\u001b[1;31mNameError\u001b[0m: name 'pi' is not defined"
     ]
    }
   ],
   "source": [
    "pi"
   ]
  },
  {
   "cell_type": "code",
   "execution_count": 12,
   "metadata": {},
   "outputs": [
    {
     "data": {
      "text/plain": [
       "13.5728352"
      ]
     },
     "execution_count": 12,
     "metadata": {},
     "output_type": "execute_result"
    }
   ],
   "source": [
    "cylinder_volume(3,1.2)"
   ]
  },
  {
   "cell_type": "code",
   "execution_count": 13,
   "metadata": {},
   "outputs": [
    {
     "data": {
      "text/plain": [
       "2001.36482"
      ]
     },
     "execution_count": 13,
     "metadata": {},
     "output_type": "execute_result"
    }
   ],
   "source": [
    "# height = 13\n",
    "# radius = 7\n",
    "\n",
    "cylinder_volume(13,7)\n"
   ]
  },
  {
   "cell_type": "code",
   "execution_count": null,
   "metadata": {},
   "outputs": [],
   "source": []
  },
  {
   "cell_type": "markdown",
   "metadata": {},
   "source": [
    "### Variable scope\n",
    "This refers to which part of a program that a variable can be referenced or used from."
   ]
  },
  {
   "cell_type": "markdown",
   "metadata": {},
   "source": [
    "**Local variables**: they are variables that can only be accessed inside the funtion\n",
    "\n",
    "**Global variables**: they are variables that can be accessed ouside a function.    \n",
    "\n",
    "The **pi** in the cylinder volume function is a local variable.\n",
    "\n",
    "\n",
    "\n",
    "\n",
    "\n",
    "\n",
    "\n",
    "\n",
    "\n"
   ]
  },
  {
   "cell_type": "code",
   "execution_count": 14,
   "metadata": {
    "scrolled": true
   },
   "outputs": [
    {
     "ename": "NameError",
     "evalue": "name 'pi' is not defined",
     "output_type": "error",
     "traceback": [
      "\u001b[1;31m---------------------------------------------------------------------------\u001b[0m",
      "\u001b[1;31mNameError\u001b[0m                                 Traceback (most recent call last)",
      "\u001b[1;32m<ipython-input-14-752e78001f21>\u001b[0m in \u001b[0;36m<module>\u001b[1;34m\u001b[0m\n\u001b[1;32m----> 1\u001b[1;33m \u001b[0mpi\u001b[0m \u001b[1;31m# this variable has a local scope hence, cannot accessed outside the function\u001b[0m\u001b[1;33m\u001b[0m\u001b[1;33m\u001b[0m\u001b[0m\n\u001b[0m",
      "\u001b[1;31mNameError\u001b[0m: name 'pi' is not defined"
     ]
    }
   ],
   "source": [
    "pi # this variable has a local scope hence, cannot accessed outside the function\n"
   ]
  },
  {
   "cell_type": "code",
   "execution_count": 15,
   "metadata": {},
   "outputs": [],
   "source": [
    "pi_ = 22/7"
   ]
  },
  {
   "cell_type": "code",
   "execution_count": 16,
   "metadata": {},
   "outputs": [
    {
     "data": {
      "text/plain": [
       "3.142857142857143"
      ]
     },
     "execution_count": 16,
     "metadata": {},
     "output_type": "execute_result"
    }
   ],
   "source": [
    "pi_ # Global scope"
   ]
  },
  {
   "cell_type": "code",
   "execution_count": 17,
   "metadata": {},
   "outputs": [],
   "source": [
    "# Example 2\n",
    "\n",
    "def area_circle(radius):\n",
    "    \n",
    "\n",
    "    \n",
    "    return pi_*radius**2\n",
    "   "
   ]
  },
  {
   "cell_type": "code",
   "execution_count": 18,
   "metadata": {},
   "outputs": [
    {
     "data": {
      "text/plain": [
       "201.14285714285714"
      ]
     },
     "execution_count": 18,
     "metadata": {},
     "output_type": "execute_result"
    }
   ],
   "source": [
    "area_circle(8)"
   ]
  },
  {
   "cell_type": "code",
   "execution_count": 19,
   "metadata": {},
   "outputs": [],
   "source": [
    "#Example 3\n",
    "def bmi(height,weight):\n",
    "     return weight/height**2"
   ]
  },
  {
   "cell_type": "code",
   "execution_count": 20,
   "metadata": {},
   "outputs": [
    {
     "data": {
      "text/plain": [
       "21.874999999999996"
      ]
     },
     "execution_count": 20,
     "metadata": {},
     "output_type": "execute_result"
    }
   ],
   "source": [
    "bmi(1.6,56)"
   ]
  },
  {
   "cell_type": "code",
   "execution_count": 21,
   "metadata": {},
   "outputs": [
    {
     "data": {
      "text/plain": [
       "19.329639889196677"
      ]
     },
     "execution_count": 21,
     "metadata": {},
     "output_type": "execute_result"
    }
   ],
   "source": [
    "bmi(1.9,69.78)"
   ]
  },
  {
   "cell_type": "code",
   "execution_count": null,
   "metadata": {},
   "outputs": [],
   "source": []
  },
  {
   "cell_type": "markdown",
   "metadata": {},
   "source": [
    "### Difference between print and return in a function"
   ]
  },
  {
   "cell_type": "code",
   "execution_count": 22,
   "metadata": {},
   "outputs": [],
   "source": [
    "def print_new_age(current_age,year):\n",
    "    age = current_age +(year-2021)\n",
    "    print(age)\n",
    "    \n",
    "    \n",
    "def return_new_age(current_age,year):\n",
    "    age = current_age +(year-2021)\n",
    "    return age"
   ]
  },
  {
   "cell_type": "code",
   "execution_count": 23,
   "metadata": {},
   "outputs": [
    {
     "name": "stdout",
     "output_type": "stream",
     "text": [
      "86\n"
     ]
    }
   ],
   "source": [
    "print_new_age(20,2087)"
   ]
  },
  {
   "cell_type": "code",
   "execution_count": 24,
   "metadata": {},
   "outputs": [
    {
     "data": {
      "text/plain": [
       "86"
      ]
     },
     "execution_count": 24,
     "metadata": {},
     "output_type": "execute_result"
    }
   ],
   "source": [
    "return_new_age(20,2087)"
   ]
  },
  {
   "cell_type": "code",
   "execution_count": 25,
   "metadata": {},
   "outputs": [
    {
     "name": "stdout",
     "output_type": "stream",
     "text": [
      "86\n"
     ]
    }
   ],
   "source": [
    "x = print_new_age(20,2087)\n"
   ]
  },
  {
   "cell_type": "code",
   "execution_count": 26,
   "metadata": {},
   "outputs": [
    {
     "name": "stdout",
     "output_type": "stream",
     "text": [
      "None\n"
     ]
    }
   ],
   "source": [
    "print(x)"
   ]
  },
  {
   "cell_type": "code",
   "execution_count": 27,
   "metadata": {},
   "outputs": [],
   "source": [
    "x"
   ]
  },
  {
   "cell_type": "code",
   "execution_count": 28,
   "metadata": {},
   "outputs": [
    {
     "ename": "TypeError",
     "evalue": "unsupported operand type(s) for /: 'NoneType' and 'int'",
     "output_type": "error",
     "traceback": [
      "\u001b[1;31m---------------------------------------------------------------------------\u001b[0m",
      "\u001b[1;31mTypeError\u001b[0m                                 Traceback (most recent call last)",
      "\u001b[1;32m<ipython-input-28-4585889a6ec6>\u001b[0m in \u001b[0;36m<module>\u001b[1;34m\u001b[0m\n\u001b[1;32m----> 1\u001b[1;33m \u001b[0mx\u001b[0m\u001b[1;33m/\u001b[0m\u001b[1;36m2\u001b[0m \u001b[1;31m# This will produce an error\u001b[0m\u001b[1;33m\u001b[0m\u001b[1;33m\u001b[0m\u001b[0m\n\u001b[0m",
      "\u001b[1;31mTypeError\u001b[0m: unsupported operand type(s) for /: 'NoneType' and 'int'"
     ]
    }
   ],
   "source": [
    "x/2 # This will produce an error"
   ]
  },
  {
   "cell_type": "code",
   "execution_count": 29,
   "metadata": {},
   "outputs": [],
   "source": [
    "y = return_new_age(20,2087)"
   ]
  },
  {
   "cell_type": "code",
   "execution_count": 30,
   "metadata": {},
   "outputs": [
    {
     "name": "stdout",
     "output_type": "stream",
     "text": [
      "86\n"
     ]
    }
   ],
   "source": [
    "print(y)"
   ]
  },
  {
   "cell_type": "code",
   "execution_count": 31,
   "metadata": {},
   "outputs": [
    {
     "data": {
      "text/plain": [
       "43.0"
      ]
     },
     "execution_count": 31,
     "metadata": {},
     "output_type": "execute_result"
    }
   ],
   "source": [
    "y/2"
   ]
  },
  {
   "cell_type": "code",
   "execution_count": 41,
   "metadata": {},
   "outputs": [],
   "source": [
    "def average_score(x):\n",
    "    ave = sum(x)/len(x)\n",
    "   \n",
    "    return ave"
   ]
  },
  {
   "cell_type": "code",
   "execution_count": 42,
   "metadata": {},
   "outputs": [],
   "source": [
    "def average_score(x):\n",
    "    ave = sum(x)/len(x)\n",
    "    return ave\n",
    "\n",
    "def average_score_print(x):\n",
    "    ave = sum(x)/len(x)\n",
    "    print(ave)\n",
    "\n"
   ]
  },
  {
   "cell_type": "code",
   "execution_count": 43,
   "metadata": {
    "scrolled": true
   },
   "outputs": [],
   "source": [
    "marks = [477,15,4597,45698,41,2.558,7849]\n",
    "\n",
    "average_marks = average_score(marks)\n"
   ]
  },
  {
   "cell_type": "code",
   "execution_count": 44,
   "metadata": {},
   "outputs": [
    {
     "data": {
      "text/plain": [
       "8382.794"
      ]
     },
     "execution_count": 44,
     "metadata": {},
     "output_type": "execute_result"
    }
   ],
   "source": [
    "average_score(marks)"
   ]
  },
  {
   "cell_type": "code",
   "execution_count": 39,
   "metadata": {},
   "outputs": [
    {
     "name": "stdout",
     "output_type": "stream",
     "text": [
      "8382.794\n"
     ]
    }
   ],
   "source": [
    "print(average_marks)"
   ]
  },
  {
   "cell_type": "code",
   "execution_count": 35,
   "metadata": {},
   "outputs": [
    {
     "name": "stdout",
     "output_type": "stream",
     "text": [
      "8382.794\n"
     ]
    }
   ],
   "source": [
    "marks = [477,15,4597,45698,41,2.558,7849]\n",
    "\n",
    "average_marks_2 = average_score_print(marks)"
   ]
  },
  {
   "cell_type": "code",
   "execution_count": 36,
   "metadata": {},
   "outputs": [
    {
     "name": "stdout",
     "output_type": "stream",
     "text": [
      "None\n"
     ]
    }
   ],
   "source": [
    "print(average_marks_2)"
   ]
  },
  {
   "cell_type": "markdown",
   "metadata": {},
   "source": [
    "### arguments of a function\n",
    "\n",
    "They are values passed as inputs to a function"
   ]
  },
  {
   "cell_type": "code",
   "execution_count": 63,
   "metadata": {},
   "outputs": [],
   "source": [
    "# default arguments\n",
    "\n",
    "def cylinder_volume(height,radius,pi= 3.14186):\n",
    "   \n",
    "    return height*pi*radius**2"
   ]
  },
  {
   "cell_type": "code",
   "execution_count": 65,
   "metadata": {},
   "outputs": [
    {
     "data": {
      "text/plain": [
       "28.27674"
      ]
     },
     "execution_count": 65,
     "metadata": {},
     "output_type": "execute_result"
    }
   ],
   "source": [
    "cylinder_volume(4,1.5)"
   ]
  },
  {
   "cell_type": "code",
   "execution_count": 54,
   "metadata": {},
   "outputs": [
    {
     "data": {
      "text/plain": [
       "30.790227999999995"
      ]
     },
     "execution_count": 54,
     "metadata": {},
     "output_type": "execute_result"
    }
   ],
   "source": [
    "cylinder_volume(5,1.4)"
   ]
  },
  {
   "cell_type": "code",
   "execution_count": 57,
   "metadata": {},
   "outputs": [],
   "source": [
    "# default arguments\n",
    "\n",
    "#def cylinder_volume(height,pi= 3.14186,radius): # This is wrong,non-default argument shouldn't follow default argument \n",
    "   \n",
    "    #return height*pi*radius**2"
   ]
  },
  {
   "cell_type": "code",
   "execution_count": 66,
   "metadata": {},
   "outputs": [
    {
     "data": {
      "text/plain": [
       "1156.5714285714284"
      ]
     },
     "execution_count": 66,
     "metadata": {},
     "output_type": "execute_result"
    }
   ],
   "source": [
    "cylinder_volume(23,4,22/7)\n"
   ]
  },
  {
   "cell_type": "code",
   "execution_count": 67,
   "metadata": {},
   "outputs": [
    {
     "data": {
      "text/plain": [
       "1156.2044799999999"
      ]
     },
     "execution_count": 67,
     "metadata": {},
     "output_type": "execute_result"
    }
   ],
   "source": [
    "cylinder_volume(23,4)"
   ]
  },
  {
   "cell_type": "code",
   "execution_count": 68,
   "metadata": {
    "scrolled": true
   },
   "outputs": [
    {
     "data": {
      "text/plain": [
       "6650.285714285714"
      ]
     },
     "execution_count": 68,
     "metadata": {},
     "output_type": "execute_result"
    }
   ],
   "source": [
    "cylinder_volume(4,23,22/7)"
   ]
  },
  {
   "cell_type": "markdown",
   "metadata": {},
   "source": [
    "### passing arguments\n",
    "1. By position\n",
    "2. By name"
   ]
  },
  {
   "cell_type": "code",
   "execution_count": null,
   "metadata": {},
   "outputs": [],
   "source": [
    "def bmi(height,weight):\n",
    "    return weight/height**2"
   ]
  },
  {
   "cell_type": "markdown",
   "metadata": {},
   "source": [
    "### By position\n",
    "To call a function by position, the arrangement of the arguments matters"
   ]
  },
  {
   "cell_type": "code",
   "execution_count": 69,
   "metadata": {
    "scrolled": true
   },
   "outputs": [
    {
     "data": {
      "text/plain": [
       "20.983987603305785"
      ]
     },
     "execution_count": 69,
     "metadata": {},
     "output_type": "execute_result"
    }
   ],
   "source": [
    "bmi(1.76,65) # Calling a function by position"
   ]
  },
  {
   "cell_type": "code",
   "execution_count": 70,
   "metadata": {},
   "outputs": [
    {
     "data": {
      "text/plain": [
       "0.0004165680473372781"
      ]
     },
     "execution_count": 70,
     "metadata": {},
     "output_type": "execute_result"
    }
   ],
   "source": [
    "bmi(65,1.76) # This is wrong"
   ]
  },
  {
   "cell_type": "markdown",
   "metadata": {},
   "source": [
    "### By name\n",
    "To call a function by name, the arrangement of the arguments does not matters"
   ]
  },
  {
   "cell_type": "code",
   "execution_count": 71,
   "metadata": {},
   "outputs": [
    {
     "data": {
      "text/plain": [
       "20.983987603305785"
      ]
     },
     "execution_count": 71,
     "metadata": {},
     "output_type": "execute_result"
    }
   ],
   "source": [
    "bmi(height=1.76, weight=65) # calling a function by name"
   ]
  },
  {
   "cell_type": "code",
   "execution_count": 72,
   "metadata": {},
   "outputs": [
    {
     "data": {
      "text/plain": [
       "20.983987603305785"
      ]
     },
     "execution_count": 72,
     "metadata": {},
     "output_type": "execute_result"
    }
   ],
   "source": [
    "bmi(weight=65,height=1.76 )"
   ]
  },
  {
   "cell_type": "code",
   "execution_count": null,
   "metadata": {},
   "outputs": [],
   "source": []
  },
  {
   "cell_type": "markdown",
   "metadata": {},
   "source": [
    "## Functions as object\n",
    "\n",
    "\n",
    "In computer programming, a first-class object, first-class citizen, or first-class value is a language entity (e.g., function or variable) that operates as other entities in a language.\n",
    "\n",
    "\n",
    "In short, it means there are no restrictions on the object's use. It's the same as any other object.\n",
    "\n",
    "A first class object is an entity that can be dynamically created, destroyed, passed to a function, returned as a value, and have all the rights as other variables in the programming language have.\n",
    "\n",
    "\n",
    "\n",
    "Functions are objects and behaves like any other object in python.\n",
    " \n",
    "Functions can be asigned to variables like the way list,integers,float,etc are usually assigned to variables.\n",
    "\n",
    "Check the example below:"
   ]
  },
  {
   "cell_type": "markdown",
   "metadata": {},
   "source": [
    "A function is an instance of the Object type.\n",
    "\n",
    "You can store the function in a variable.\n",
    "\n",
    "You can pass the function as a parameter to another function.\n",
    "\n",
    "You can return the function from a function.\n",
    "\n",
    "You can store them in data structures such as hash tables, lists, …"
   ]
  },
  {
   "cell_type": "markdown",
   "metadata": {},
   "source": [
    "### Nested functions/Inner functions/Helper functions/child functions"
   ]
  },
  {
   "cell_type": "markdown",
   "metadata": {},
   "source": [
    "Function can be defined within another function. \n",
    "\n",
    "A functions defined within another function can be called Nested function,Inner function,Helper \n",
    "\n",
    "function or child function."
   ]
  },
  {
   "cell_type": "markdown",
   "metadata": {},
   "source": [
    "### Returning a function in a function"
   ]
  },
  {
   "cell_type": "code",
   "execution_count": null,
   "metadata": {},
   "outputs": [],
   "source": [
    "# Returning a function within a function\n",
    "\n",
    "def create_math_function(func_name):\n",
    "    if func_name == 'add':\n",
    "        def add(a, b):\n",
    "            return a + b\n",
    "        return add\n",
    "    elif func_name == 'subtract':\n",
    "        # Define the subtract() function\n",
    "        def subtract(a,b):\n",
    "            return a-b\n",
    "        return subtract\n",
    "    else:\n",
    "        print(\"I don't know that one\")\n",
    "    \n",
    "add = create_math_function('add')\n",
    "print('5 + 2 = {}'.format(add(5, 2)))\n",
    "\n",
    "subtract = create_math_function('subtract')\n",
    "print('5 - 2 = {}'.format(subtract(5, 2)))"
   ]
  },
  {
   "cell_type": "markdown",
   "metadata": {},
   "source": [
    "## Scope"
   ]
  },
  {
   "cell_type": "markdown",
   "metadata": {},
   "source": [
    "local scope: Refers to the area within a function.\n",
    "\n",
    "Nonlocal scope: Refers to the area beyond a child function but within a parent function. Nonlocal scope exist in the case of nested functions.\n",
    "\n",
    "Global scope: Refers to the area outside a function.\n",
    "\n",
    "Builtin scope: Refers to the area where builtin items are stored."
   ]
  },
  {
   "cell_type": "code",
   "execution_count": null,
   "metadata": {},
   "outputs": [],
   "source": []
  },
  {
   "cell_type": "code",
   "execution_count": null,
   "metadata": {},
   "outputs": [],
   "source": [
    "def greetings():    \n",
    "    x = 'Hi'\n",
    "    print(x)"
   ]
  },
  {
   "cell_type": "code",
   "execution_count": null,
   "metadata": {},
   "outputs": [],
   "source": [
    "x = 'Goodmorning'"
   ]
  },
  {
   "cell_type": "code",
   "execution_count": null,
   "metadata": {},
   "outputs": [],
   "source": [
    "greetings()"
   ]
  },
  {
   "cell_type": "code",
   "execution_count": null,
   "metadata": {},
   "outputs": [],
   "source": [
    "print(x)  # the value of the x with the global scope has remain unchanged."
   ]
  },
  {
   "cell_type": "markdown",
   "metadata": {},
   "source": [
    "NB: From the codes above we have x which has a local scope in the greetings function and another x\n",
    "\n",
    "with a global scope, after the function is run it doesn't affect or update the x that has a global scope.The value remains the same.\n",
    "\n",
    "To allow effect or updates on the  the x with the global scope, we will have to explitcitly declare that using\n",
    "\n",
    "the keyword 'global'.\n",
    "\n",
    "Check the example below."
   ]
  },
  {
   "cell_type": "code",
   "execution_count": null,
   "metadata": {},
   "outputs": [],
   "source": [
    "def greetme():\n",
    "    global x\n",
    "    x = 'Hello!'\n",
    "    print(x)"
   ]
  },
  {
   "cell_type": "code",
   "execution_count": null,
   "metadata": {},
   "outputs": [],
   "source": [
    "x = 'Good evening'"
   ]
  },
  {
   "cell_type": "code",
   "execution_count": null,
   "metadata": {},
   "outputs": [],
   "source": [
    "greetme()"
   ]
  },
  {
   "cell_type": "code",
   "execution_count": null,
   "metadata": {},
   "outputs": [],
   "source": [
    "print(x) # the value of the x with the global scope has changed."
   ]
  },
  {
   "cell_type": "code",
   "execution_count": null,
   "metadata": {},
   "outputs": [],
   "source": [
    "call_count = 0\n",
    "\n",
    "def my_function():\n",
    "    # Use a keyword that lets us update call_count \n",
    "    global call_count\n",
    "    call_count += 1\n",
    "  \n",
    "    print(\"You've called my_function() {} times!\".format(call_count))\n",
    "    \n",
    "for _ in range(20):\n",
    "    my_function()"
   ]
  },
  {
   "cell_type": "code",
   "execution_count": null,
   "metadata": {},
   "outputs": [],
   "source": [
    "def read_files():\n",
    "    file_contents = None\n",
    "  \n",
    "    def save_contents(filename):\n",
    "        # Add a keyword that lets us modify file_contents\n",
    "        nonlocal file_contents\n",
    "        if file_contents is None:\n",
    "            file_contents = []\n",
    "            with open(filename) as fin:\n",
    "                file_contents.append(fin.read())\n",
    "                for filename in ['1984.txt', 'MobyDick.txt', 'CatsEye.txt']:\n",
    "                    save_contents(filename)\n",
    "    \n",
    "    return file_contents\n",
    "\n",
    "print('\\n'.join(read_files()))"
   ]
  },
  {
   "cell_type": "code",
   "execution_count": null,
   "metadata": {},
   "outputs": [],
   "source": [
    "def wait_until_done():\n",
    "    def check_is_done():\n",
    "        # Add a keyword so that wait_until_done() \n",
    "        # doesn't run forever\n",
    "        global done\n",
    "        if random.random() < 0.1:\n",
    "            done = True\n",
    "        while not done:\n",
    "            check_is_done()\n",
    "\n",
    "done = False\n",
    "wait_until_done()\n",
    "\n",
    "print('Work done? {}'.format(done))"
   ]
  },
  {
   "cell_type": "code",
   "execution_count": null,
   "metadata": {},
   "outputs": [],
   "source": []
  },
  {
   "cell_type": "code",
   "execution_count": null,
   "metadata": {},
   "outputs": [],
   "source": []
  }
 ],
 "metadata": {
  "kernelspec": {
   "display_name": "Python 3 (ipykernel)",
   "language": "python",
   "name": "python3"
  },
  "language_info": {
   "codemirror_mode": {
    "name": "ipython",
    "version": 3
   },
   "file_extension": ".py",
   "mimetype": "text/x-python",
   "name": "python",
   "nbconvert_exporter": "python",
   "pygments_lexer": "ipython3",
   "version": "3.11.4"
  }
 },
 "nbformat": 4,
 "nbformat_minor": 4
}
